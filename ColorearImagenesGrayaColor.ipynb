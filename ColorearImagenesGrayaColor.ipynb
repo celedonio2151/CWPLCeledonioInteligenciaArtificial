{
  "nbformat": 4,
  "nbformat_minor": 0,
  "metadata": {
    "colab": {
      "name": "ColorearImagenesGrayaColor.ipynb",
      "provenance": []
    },
    "kernelspec": {
      "name": "python3",
      "display_name": "Python 3"
    },
    "language_info": {
      "name": "python"
    }
  },
  "cells": [
    {
      "cell_type": "code",
      "execution_count": null,
      "metadata": {
        "id": "3eMUU8tJdgsu"
      },
      "outputs": [],
      "source": [
        "# Importamos las librerias necesarias\n",
        "import torch\n",
        "import torchvision\n",
        "import torch.nn as nn\n",
        "import os\n",
        "import glob as gb\n",
        "import cv2\n",
        "import matplotlib.pyplot as plt\n",
        "import numpy as np\n",
        "import random \n",
        "from skimage import io\n",
        "from PIL import Image\n",
        "from skimage import io\n",
        "from skimage.transform import resize\n",
        "\n",
        "# Verificaremos si tenemos GPU\n",
        "device = \"cuda\" if torch.cuda.is_available() else \"cpu\"\n",
        "device"
      ]
    },
    {
      "cell_type": "code",
      "source": [
        "# Descargamos dataset\n",
        "PATH = '/content/drive/MyDrive/DCGANs bolsas'\n",
        "\n",
        "classes = os.listdir(PATH)\n",
        "classes"
      ],
      "metadata": {
        "id": "0LDMZzyRdmvJ"
      },
      "execution_count": null,
      "outputs": []
    },
    {
      "cell_type": "code",
      "source": [
        "imgs, labels = [], []\n",
        "\n",
        "for i, lab in enumerate(classes):\n",
        "  paths = os.listdir(f'{PATH}/{lab}')\n",
        "  print(f'Categoría: {lab}. Imágenes: {len(paths)}')\n",
        "  paths = [p for p in paths if p[-3:] == \"jpg\"]\n",
        "  imgs += [f'{PATH}/{lab}/{img}' for img in paths]\n",
        "  labels += [i]*len(paths)"
      ],
      "metadata": {
        "id": "oxd_IPcLdpPB"
      },
      "execution_count": null,
      "outputs": []
    }
  ]
}