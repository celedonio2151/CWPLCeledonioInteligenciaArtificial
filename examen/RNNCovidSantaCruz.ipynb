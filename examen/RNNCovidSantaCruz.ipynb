{
  "nbformat": 4,
  "nbformat_minor": 0,
  "metadata": {
    "colab": {
      "name": "RNNCovidSantaCruz.ipynb",
      "provenance": []
    },
    "kernelspec": {
      "name": "python3",
      "display_name": "Python 3"
    },
    "language_info": {
      "name": "python"
    }
  },
  "cells": [
    {
      "cell_type": "markdown",
      "source": [
        "# Sección Redes Recurrente LSTM"
      ],
      "metadata": {
        "id": "cQOnjDP8bzRj"
      }
    },
    {
      "cell_type": "markdown",
      "source": [
        "# Sección Prediccion de Covid en Santa Cruz Bolivia"
      ],
      "metadata": {
        "id": "fMksCyeBTVFN"
      }
    },
    {
      "cell_type": "code",
      "source": [
        "# importmamos las librerias necesarias\n",
        "import torch\n",
        "import torch.nn as nn\n",
        "import warnings\n",
        "warnings.filterwarnings(\"ignore\")\n",
        "import seaborn as sns\n",
        "import numpy as np\n",
        "import pandas as pd\n",
        "import matplotlib.pyplot as plt\n",
        "%matplotlib inline\n"
      ],
      "metadata": {
        "id": "YllsEfwoTd_s"
      },
      "execution_count": 130,
      "outputs": []
    },
    {
      "cell_type": "code",
      "source": [
        "# Leemos los datos desde Drive\n",
        "flight_data = pd.read_csv('/content/drive/MyDrive/SIS 421/Segunda Instancia/CovidSantaCruz.csv', index_col=0, delimiter=\";\")\n",
        "flight_data.head()\n"
      ],
      "metadata": {
        "colab": {
          "base_uri": "https://localhost:8080/",
          "height": 388
        },
        "id": "tg8BE5iJTlaq",
        "outputId": "517015c1-4e1a-4eb3-c53d-fa7b35aca35e"
      },
      "execution_count": 135,
      "outputs": [
        {
          "output_type": "execute_result",
          "data": {
            "text/html": [
              "\n",
              "  <div id=\"df-7107762e-8948-4737-aefe-66589b55ad71\">\n",
              "    <div class=\"colab-df-container\">\n",
              "      <div>\n",
              "<style scoped>\n",
              "    .dataframe tbody tr th:only-of-type {\n",
              "        vertical-align: middle;\n",
              "    }\n",
              "\n",
              "    .dataframe tbody tr th {\n",
              "        vertical-align: top;\n",
              "    }\n",
              "\n",
              "    .dataframe thead th {\n",
              "        text-align: right;\n",
              "    }\n",
              "</style>\n",
              "<table border=\"1\" class=\"dataframe\">\n",
              "  <thead>\n",
              "    <tr style=\"text-align: right;\">\n",
              "      <th></th>\n",
              "      <th>region</th>\n",
              "      <th>cases</th>\n",
              "      <th>recovered</th>\n",
              "      <th>deceased</th>\n",
              "      <th>population</th>\n",
              "      <th>active</th>\n",
              "      <th>active_per_10k</th>\n",
              "      <th>deceased_per_million</th>\n",
              "      <th>suceptible</th>\n",
              "      <th>removed</th>\n",
              "    </tr>\n",
              "    <tr>\n",
              "      <th>date</th>\n",
              "      <th></th>\n",
              "      <th></th>\n",
              "      <th></th>\n",
              "      <th></th>\n",
              "      <th></th>\n",
              "      <th></th>\n",
              "      <th></th>\n",
              "      <th></th>\n",
              "      <th></th>\n",
              "      <th></th>\n",
              "    </tr>\n",
              "  </thead>\n",
              "  <tbody>\n",
              "    <tr>\n",
              "      <th>21/03/2020</th>\n",
              "      <td>Santa Cruz</td>\n",
              "      <td>9</td>\n",
              "      <td>0</td>\n",
              "      <td>0</td>\n",
              "      <td>3370059</td>\n",
              "      <td>9</td>\n",
              "      <td>0.026705763905023622</td>\n",
              "      <td>0.0</td>\n",
              "      <td>3370050</td>\n",
              "      <td>0</td>\n",
              "    </tr>\n",
              "    <tr>\n",
              "      <th>22/03/2020</th>\n",
              "      <td>Santa Cruz</td>\n",
              "      <td>15</td>\n",
              "      <td>0</td>\n",
              "      <td>0</td>\n",
              "      <td>3370059</td>\n",
              "      <td>15</td>\n",
              "      <td>0.044509606508372705</td>\n",
              "      <td>0.0</td>\n",
              "      <td>3370044</td>\n",
              "      <td>0</td>\n",
              "    </tr>\n",
              "    <tr>\n",
              "      <th>23/03/2020</th>\n",
              "      <td>Santa Cruz</td>\n",
              "      <td>16</td>\n",
              "      <td>0</td>\n",
              "      <td>0</td>\n",
              "      <td>3370059</td>\n",
              "      <td>16</td>\n",
              "      <td>0.04747691360893088</td>\n",
              "      <td>0.0</td>\n",
              "      <td>3370043</td>\n",
              "      <td>0</td>\n",
              "    </tr>\n",
              "    <tr>\n",
              "      <th>24/03/2020</th>\n",
              "      <td>Santa Cruz</td>\n",
              "      <td>18</td>\n",
              "      <td>0</td>\n",
              "      <td>0</td>\n",
              "      <td>3370059</td>\n",
              "      <td>18</td>\n",
              "      <td>0.053411527810047245</td>\n",
              "      <td>0.0</td>\n",
              "      <td>3370041</td>\n",
              "      <td>0</td>\n",
              "    </tr>\n",
              "    <tr>\n",
              "      <th>25/03/2020</th>\n",
              "      <td>Santa Cruz</td>\n",
              "      <td>24</td>\n",
              "      <td>0</td>\n",
              "      <td>0</td>\n",
              "      <td>3370059</td>\n",
              "      <td>24</td>\n",
              "      <td>0.07121537041339632</td>\n",
              "      <td>0.0</td>\n",
              "      <td>3370035</td>\n",
              "      <td>0</td>\n",
              "    </tr>\n",
              "  </tbody>\n",
              "</table>\n",
              "</div>\n",
              "      <button class=\"colab-df-convert\" onclick=\"convertToInteractive('df-7107762e-8948-4737-aefe-66589b55ad71')\"\n",
              "              title=\"Convert this dataframe to an interactive table.\"\n",
              "              style=\"display:none;\">\n",
              "        \n",
              "  <svg xmlns=\"http://www.w3.org/2000/svg\" height=\"24px\"viewBox=\"0 0 24 24\"\n",
              "       width=\"24px\">\n",
              "    <path d=\"M0 0h24v24H0V0z\" fill=\"none\"/>\n",
              "    <path d=\"M18.56 5.44l.94 2.06.94-2.06 2.06-.94-2.06-.94-.94-2.06-.94 2.06-2.06.94zm-11 1L8.5 8.5l.94-2.06 2.06-.94-2.06-.94L8.5 2.5l-.94 2.06-2.06.94zm10 10l.94 2.06.94-2.06 2.06-.94-2.06-.94-.94-2.06-.94 2.06-2.06.94z\"/><path d=\"M17.41 7.96l-1.37-1.37c-.4-.4-.92-.59-1.43-.59-.52 0-1.04.2-1.43.59L10.3 9.45l-7.72 7.72c-.78.78-.78 2.05 0 2.83L4 21.41c.39.39.9.59 1.41.59.51 0 1.02-.2 1.41-.59l7.78-7.78 2.81-2.81c.8-.78.8-2.07 0-2.86zM5.41 20L4 18.59l7.72-7.72 1.47 1.35L5.41 20z\"/>\n",
              "  </svg>\n",
              "      </button>\n",
              "      \n",
              "  <style>\n",
              "    .colab-df-container {\n",
              "      display:flex;\n",
              "      flex-wrap:wrap;\n",
              "      gap: 12px;\n",
              "    }\n",
              "\n",
              "    .colab-df-convert {\n",
              "      background-color: #E8F0FE;\n",
              "      border: none;\n",
              "      border-radius: 50%;\n",
              "      cursor: pointer;\n",
              "      display: none;\n",
              "      fill: #1967D2;\n",
              "      height: 32px;\n",
              "      padding: 0 0 0 0;\n",
              "      width: 32px;\n",
              "    }\n",
              "\n",
              "    .colab-df-convert:hover {\n",
              "      background-color: #E2EBFA;\n",
              "      box-shadow: 0px 1px 2px rgba(60, 64, 67, 0.3), 0px 1px 3px 1px rgba(60, 64, 67, 0.15);\n",
              "      fill: #174EA6;\n",
              "    }\n",
              "\n",
              "    [theme=dark] .colab-df-convert {\n",
              "      background-color: #3B4455;\n",
              "      fill: #D2E3FC;\n",
              "    }\n",
              "\n",
              "    [theme=dark] .colab-df-convert:hover {\n",
              "      background-color: #434B5C;\n",
              "      box-shadow: 0px 1px 3px 1px rgba(0, 0, 0, 0.15);\n",
              "      filter: drop-shadow(0px 1px 2px rgba(0, 0, 0, 0.3));\n",
              "      fill: #FFFFFF;\n",
              "    }\n",
              "  </style>\n",
              "\n",
              "      <script>\n",
              "        const buttonEl =\n",
              "          document.querySelector('#df-7107762e-8948-4737-aefe-66589b55ad71 button.colab-df-convert');\n",
              "        buttonEl.style.display =\n",
              "          google.colab.kernel.accessAllowed ? 'block' : 'none';\n",
              "\n",
              "        async function convertToInteractive(key) {\n",
              "          const element = document.querySelector('#df-7107762e-8948-4737-aefe-66589b55ad71');\n",
              "          const dataTable =\n",
              "            await google.colab.kernel.invokeFunction('convertToInteractive',\n",
              "                                                     [key], {});\n",
              "          if (!dataTable) return;\n",
              "\n",
              "          const docLinkHtml = 'Like what you see? Visit the ' +\n",
              "            '<a target=\"_blank\" href=https://colab.research.google.com/notebooks/data_table.ipynb>data table notebook</a>'\n",
              "            + ' to learn more about interactive tables.';\n",
              "          element.innerHTML = '';\n",
              "          dataTable['output_type'] = 'display_data';\n",
              "          await google.colab.output.renderOutput(dataTable, element);\n",
              "          const docLink = document.createElement('div');\n",
              "          docLink.innerHTML = docLinkHtml;\n",
              "          element.appendChild(docLink);\n",
              "        }\n",
              "      </script>\n",
              "    </div>\n",
              "  </div>\n",
              "  "
            ],
            "text/plain": [
              "                region  cases  ...  suceptible  removed\n",
              "date                           ...                     \n",
              "21/03/2020  Santa Cruz      9  ...     3370050        0\n",
              "22/03/2020  Santa Cruz     15  ...     3370044        0\n",
              "23/03/2020  Santa Cruz     16  ...     3370043        0\n",
              "24/03/2020  Santa Cruz     18  ...     3370041        0\n",
              "25/03/2020  Santa Cruz     24  ...     3370035        0\n",
              "\n",
              "[5 rows x 10 columns]"
            ]
          },
          "metadata": {},
          "execution_count": 135
        }
      ]
    },
    {
      "cell_type": "code",
      "source": [
        "# Dimensiones del dataset\n",
        "flight_data.shape\n"
      ],
      "metadata": {
        "colab": {
          "base_uri": "https://localhost:8080/"
        },
        "id": "-KYBCeGhVb9o",
        "outputId": "52152561-4858-4ae5-b4e3-e31b1b93ef1b"
      },
      "execution_count": 136,
      "outputs": [
        {
          "output_type": "execute_result",
          "data": {
            "text/plain": [
              "(122, 10)"
            ]
          },
          "metadata": {},
          "execution_count": 136
        }
      ]
    },
    {
      "cell_type": "code",
      "source": [
        "fig_size = plt.rcParams[\"figure.figsize\"]\n",
        "fig_size[0] = 15*2\n",
        "fig_size[1] = 5*2\n",
        "plt.rcParams[\"figure.figsize\"] = fig_size\n"
      ],
      "metadata": {
        "id": "X2S2INrZVjtr"
      },
      "execution_count": 137,
      "outputs": []
    },
    {
      "cell_type": "code",
      "source": [
        "limite = len(flight_data['cases'])\n",
        "xx = np.arange(0, limite, 1)\n",
        "# print(xx)"
      ],
      "metadata": {
        "id": "cgauQKSXleq9"
      },
      "execution_count": 141,
      "outputs": []
    },
    {
      "cell_type": "code",
      "source": [
        "plt.title('Dias vs Casos')\n",
        "plt.ylabel('Total Casos')\n",
        "plt.xlabel('Dias')\n",
        "plt.grid(True)\n",
        "plt.autoscale(axis='x',tight=True)\n",
        "plt.plot(xx,flight_data['cases'])\n"
      ],
      "metadata": {
        "colab": {
          "base_uri": "https://localhost:8080/",
          "height": 340
        },
        "id": "ep9D9-lVVl4L",
        "outputId": "cec1d525-27e3-4df3-85a3-73a6118a103e"
      },
      "execution_count": 143,
      "outputs": [
        {
          "output_type": "execute_result",
          "data": {
            "text/plain": [
              "[<matplotlib.lines.Line2D at 0x7ff3393a94d0>]"
            ]
          },
          "metadata": {},
          "execution_count": 143
        },
        {
          "output_type": "display_data",
          "data": {
            "image/png": "[encoded data removed]",
            "text/plain": [
              "<Figure size 2160x720 with 1 Axes>"
            ]
          },
          "metadata": {
            "needs_background": "light"
          }
        }
      ]
    },
    {
      "cell_type": "code",
      "source": [
        "flight_data.columns\n"
      ],
      "metadata": {
        "colab": {
          "base_uri": "https://localhost:8080/"
        },
        "id": "9Z3AGf9yXQ7Q",
        "outputId": "e384d7ee-be70-4d14-cf3b-ed2ce56fe9ef"
      },
      "execution_count": 74,
      "outputs": [
        {
          "output_type": "execute_result",
          "data": {
            "text/plain": [
              "Index(['region', 'cases', 'recovered', 'deceased', 'population', 'active',\n",
              "       'active_per_10k', 'deceased_per_million', 'suceptible', 'removed'],\n",
              "      dtype='object')"
            ]
          },
          "metadata": {},
          "execution_count": 74
        }
      ]
    },
    {
      "cell_type": "code",
      "source": [
        "# Convertimos a float los datos\n",
        "all_data = flight_data['cases'].values.astype(float)\n"
      ],
      "metadata": {
        "id": "P1WtsrgnXVM9"
      },
      "execution_count": 146,
      "outputs": []
    },
    {
      "cell_type": "code",
      "source": [
        "print(all_data)\n"
      ],
      "metadata": {
        "colab": {
          "base_uri": "https://localhost:8080/"
        },
        "id": "THqIGQLZXb-E",
        "outputId": "5e6bc945-7fff-438f-a916-4a61b56ec25d"
      },
      "execution_count": 145,
      "outputs": [
        {
          "output_type": "stream",
          "name": "stdout",
          "text": [
            "[9.0000e+00 1.5000e+01 1.6000e+01 1.8000e+01 2.4000e+01 3.4000e+01\n",
            " 4.2000e+01 4.4000e+01 5.2000e+01 5.9000e+01 6.4000e+01 6.8000e+01\n",
            " 7.0000e+01 7.4000e+01 8.8000e+01 9.7000e+01 1.0000e+02 1.0300e+02\n",
            " 1.2700e+02 1.3000e+02 1.3400e+02 1.4700e+02 1.6300e+02 1.7700e+02\n",
            " 1.9000e+02 2.1500e+02 2.1800e+02 2.3700e+02 2.5500e+02 2.9000e+02\n",
            " 3.1700e+02 3.2400e+02 3.7100e+02 3.8500e+02 4.4600e+02 4.8900e+02\n",
            " 5.2500e+02 5.5300e+02 5.8700e+02 6.1500e+02 6.5600e+02 6.9300e+02\n",
            " 8.0600e+02 9.0400e+02 9.7900e+02 1.0830e+03 1.1600e+03 1.3180e+03\n",
            " 1.3870e+03 1.5370e+03 1.6330e+03 1.8230e+03 1.9250e+03 2.0410e+03\n",
            " 2.1630e+03 2.2970e+03 2.5180e+03 2.7630e+03 2.8940e+03 2.9820e+03\n",
            " 3.2410e+03 3.4140e+03 3.6650e+03 3.9000e+03 4.1990e+03 4.5270e+03\n",
            " 4.8880e+03 5.3660e+03 5.7740e+03 5.9460e+03 6.5420e+03 6.7110e+03\n",
            " 7.0180e+03 7.2350e+03 7.6370e+03 7.9520e+03 8.1440e+03 8.5560e+03\n",
            " 8.6760e+03 8.6760e+03 9.2240e+03 9.5940e+03 1.0127e+04 1.0536e+04\n",
            " 1.1154e+04 1.1424e+04 1.1741e+04 1.2366e+04 1.2725e+04 1.2988e+04\n",
            " 1.3539e+04 1.4165e+04 1.4499e+04 1.5067e+04 1.5442e+04 1.5984e+04\n",
            " 1.6555e+04 1.6777e+04 1.7455e+04 1.7873e+04 1.8211e+04 1.8881e+04\n",
            " 1.9257e+04 1.9991e+04 2.0558e+04 2.1190e+04 2.1752e+04 2.1953e+04\n",
            " 2.2398e+04 2.2926e+04 2.3411e+04 2.4025e+04 2.4625e+04 2.4900e+04\n",
            " 2.5260e+04 2.6124e+04 2.6671e+04 2.7744e+04 2.8989e+04 2.9484e+04\n",
            " 2.9754e+04 3.0309e+04]\n"
          ]
        }
      ]
    },
    {
      "cell_type": "code",
      "source": [
        "test_data_size = 14 # Datos para la evaluacion\n",
        "\n",
        "train_data = all_data[:-test_data_size]\n",
        "test_data = all_data[-test_data_size:]\n"
      ],
      "metadata": {
        "id": "rC9E8xhrXm9O"
      },
      "execution_count": 147,
      "outputs": []
    },
    {
      "cell_type": "code",
      "source": [
        "print(len(train_data))\n",
        "print(len(test_data))\n"
      ],
      "metadata": {
        "colab": {
          "base_uri": "https://localhost:8080/"
        },
        "id": "EFYPpy4nXr31",
        "outputId": "6086165b-6d12-4a27-98c8-c87cc08d4967"
      },
      "execution_count": 148,
      "outputs": [
        {
          "output_type": "stream",
          "name": "stdout",
          "text": [
            "108\n",
            "14\n"
          ]
        }
      ]
    },
    {
      "cell_type": "code",
      "source": [
        "# Normalizamos los datos entre 1 y -1\n",
        "from sklearn.preprocessing import MinMaxScaler\n",
        "\n",
        "scaler = MinMaxScaler(feature_range=(-1, 1))\n",
        "train_data_normalized = scaler.fit_transform(train_data .reshape(-1, 1))\n"
      ],
      "metadata": {
        "id": "V8lKPYLoXr8L"
      },
      "execution_count": 150,
      "outputs": []
    },
    {
      "cell_type": "code",
      "source": [
        "# Mostramos datos normalizados\n",
        "print(train_data_normalized[:5])\n",
        "print(train_data_normalized[-5:])\n"
      ],
      "metadata": {
        "colab": {
          "base_uri": "https://localhost:8080/"
        },
        "id": "-_BS57uIXsAS",
        "outputId": "8541be27-8827-4b1a-cd59-9658b9c2a83c"
      },
      "execution_count": 152,
      "outputs": [
        {
          "output_type": "stream",
          "name": "stdout",
          "text": [
            "[[-1.        ]\n",
            " [-0.99945315]\n",
            " [-0.99936201]\n",
            " [-0.99917973]\n",
            " [-0.99863288]]\n",
            "[[0.82118119]\n",
            " [0.87285818]\n",
            " [0.93045935]\n",
            " [0.98168064]\n",
            " [1.        ]]\n"
          ]
        }
      ]
    },
    {
      "cell_type": "code",
      "source": [
        "# Convertir a tensores de Pytorch\n",
        "train_data_normalized = torch.FloatTensor(train_data_normalized).view(-1)\n",
        "train_data_normalized\n"
      ],
      "metadata": {
        "colab": {
          "base_uri": "https://localhost:8080/"
        },
        "id": "YS3AlYPfXsDs",
        "outputId": "06d4b01d-ae23-4443-e944-fc1d10e35cd4"
      },
      "execution_count": 153,
      "outputs": [
        {
          "output_type": "execute_result",
          "data": {
            "text/plain": [
              "tensor([-1.0000, -0.9995, -0.9994, -0.9992, -0.9986, -0.9977, -0.9970, -0.9968,\n",
              "        -0.9961, -0.9954, -0.9950, -0.9946, -0.9944, -0.9941, -0.9928, -0.9920,\n",
              "        -0.9917, -0.9914, -0.9892, -0.9890, -0.9886, -0.9874, -0.9860, -0.9847,\n",
              "        -0.9835, -0.9812, -0.9810, -0.9792, -0.9776, -0.9744, -0.9719, -0.9713,\n",
              "        -0.9670, -0.9657, -0.9602, -0.9563, -0.9530, -0.9504, -0.9473, -0.9448,\n",
              "        -0.9410, -0.9377, -0.9274, -0.9184, -0.9116, -0.9021, -0.8951, -0.8807,\n",
              "        -0.8744, -0.8607, -0.8520, -0.8347, -0.8254, -0.8148, -0.8037, -0.7915,\n",
              "        -0.7713, -0.7490, -0.7371, -0.7290, -0.7054, -0.6897, -0.6668, -0.6454,\n",
              "        -0.6181, -0.5882, -0.5553, -0.5118, -0.4746, -0.4589, -0.4046, -0.3892,\n",
              "        -0.3612, -0.3414, -0.3048, -0.2761, -0.2586, -0.2210, -0.2101, -0.2101,\n",
              "        -0.1601, -0.1264, -0.0778, -0.0406,  0.0158,  0.0404,  0.0693,  0.1262,\n",
              "         0.1590,  0.1829,  0.2331,  0.2902,  0.3206,  0.3724,  0.4066,  0.4560,\n",
              "         0.5080,  0.5283,  0.5900,  0.6281,  0.6590,  0.7200,  0.7543,  0.8212,\n",
              "         0.8729,  0.9305,  0.9817,  1.0000])"
            ]
          },
          "metadata": {},
          "execution_count": 153
        }
      ]
    },
    {
      "cell_type": "code",
      "source": [
        "# Crear etiquetas \n",
        "train_labels = 14\n"
      ],
      "metadata": {
        "id": "du9VH33kXsRB"
      },
      "execution_count": 154,
      "outputs": []
    },
    {
      "cell_type": "code",
      "source": [
        "# Recibe filas y devuelve listas de tuplas  crea secuencias\n",
        "def create_inout_sequences(input_data, tw):\n",
        "    inout_seq = []\n",
        "    L = len(input_data)\n",
        "    for i in range(L-tw):\n",
        "        train_seq = input_data[i:i+tw]\n",
        "        train_label = input_data[i+tw:i+tw+1]\n",
        "        inout_seq.append((train_seq ,train_label))\n",
        "    return inout_seq\n"
      ],
      "metadata": {
        "id": "nbtupm_NYHQk"
      },
      "execution_count": 155,
      "outputs": []
    },
    {
      "cell_type": "code",
      "source": [
        "# Creamos secuencias de datos y sus etiquetas\n",
        "train_inout_seq = create_inout_sequences(train_data_normalized, train_labels)\n"
      ],
      "metadata": {
        "id": "La6HMQyKYHVZ"
      },
      "execution_count": 156,
      "outputs": []
    },
    {
      "cell_type": "code",
      "source": [
        "# Mostramos algunas secuencias\n",
        "train_inout_seq[:5], len(train_inout_seq)\n"
      ],
      "metadata": {
        "colab": {
          "base_uri": "https://localhost:8080/"
        },
        "id": "g1NeU_VvYHaq",
        "outputId": "c5f552b2-bbce-43fc-8f91-7e9911768f8c"
      },
      "execution_count": 161,
      "outputs": [
        {
          "output_type": "execute_result",
          "data": {
            "text/plain": [
              "([(tensor([-1.0000, -0.9995, -0.9994, -0.9992, -0.9986, -0.9977, -0.9970, -0.9968,\n",
              "           -0.9961, -0.9954, -0.9950, -0.9946, -0.9944, -0.9941]),\n",
              "   tensor([-0.9928])),\n",
              "  (tensor([-0.9995, -0.9994, -0.9992, -0.9986, -0.9977, -0.9970, -0.9968, -0.9961,\n",
              "           -0.9954, -0.9950, -0.9946, -0.9944, -0.9941, -0.9928]),\n",
              "   tensor([-0.9920])),\n",
              "  (tensor([-0.9994, -0.9992, -0.9986, -0.9977, -0.9970, -0.9968, -0.9961, -0.9954,\n",
              "           -0.9950, -0.9946, -0.9944, -0.9941, -0.9928, -0.9920]),\n",
              "   tensor([-0.9917])),\n",
              "  (tensor([-0.9992, -0.9986, -0.9977, -0.9970, -0.9968, -0.9961, -0.9954, -0.9950,\n",
              "           -0.9946, -0.9944, -0.9941, -0.9928, -0.9920, -0.9917]),\n",
              "   tensor([-0.9914])),\n",
              "  (tensor([-0.9986, -0.9977, -0.9970, -0.9968, -0.9961, -0.9954, -0.9950, -0.9946,\n",
              "           -0.9944, -0.9941, -0.9928, -0.9920, -0.9917, -0.9914]),\n",
              "   tensor([-0.9892]))],\n",
              " 94)"
            ]
          },
          "metadata": {},
          "execution_count": 161
        }
      ]
    },
    {
      "cell_type": "code",
      "source": [
        "# Creamos el modelo LSTM\n",
        "class LSTM(nn.Module):\n",
        "    def __init__(self, input_size=1, hidden_layer_size=100, output_size=1):\n",
        "        super().__init__()\n",
        "        self.hidden_layer_size = hidden_layer_size  # unodades de la capa oculta\n",
        "\n",
        "        self.lstm = nn.LSTM(input_size, hidden_layer_size)\n",
        "\n",
        "        self.linear = nn.Linear(hidden_layer_size, output_size) # capa lineal salida\n",
        "\n",
        "        self.hidden_cell = (torch.zeros(1,1,self.hidden_layer_size),  # estado ultima celda oculta y celda memoria\n",
        "                            torch.zeros(1,1,self.hidden_layer_size)) # (num_layers * num_directions, batch_size, hidden_size)\n",
        "\n",
        "    def forward(self, input_seq):\n",
        "        lstm_out, self.hidden_cell = self.lstm(input_seq.view(len(input_seq) ,1, -1), self.hidden_cell)\n",
        "        predictions = self.linear(lstm_out.view(len(input_seq), -1))\n",
        "        return predictions[-1]\n"
      ],
      "metadata": {
        "id": "vJ65uhRAY3D1"
      },
      "execution_count": 162,
      "outputs": []
    },
    {
      "cell_type": "code",
      "source": [
        "# Instanciasmos el modelo LSTM\n",
        "model = LSTM()\n",
        "loss_function = nn.MSELoss()  # funcin de perdida\n",
        "optimizer = torch.optim.Adam(model.parameters(), lr=0.001)  # Optimizador\n"
      ],
      "metadata": {
        "id": "0wmdQgIOY6WD"
      },
      "execution_count": 164,
      "outputs": []
    },
    {
      "cell_type": "code",
      "source": [
        "# Vemos lo que tiene el modelo\n",
        "print(model)"
      ],
      "metadata": {
        "colab": {
          "base_uri": "https://localhost:8080/"
        },
        "id": "JueAOAzeY_TH",
        "outputId": "d4b916da-1043-45ea-a222-67ce23278d84"
      },
      "execution_count": 165,
      "outputs": [
        {
          "output_type": "stream",
          "name": "stdout",
          "text": [
            "LSTM(\n",
            "  (lstm): LSTM(1, 100)\n",
            "  (linear): Linear(in_features=100, out_features=1, bias=True)\n",
            ")\n"
          ]
        }
      ]
    },
    {
      "cell_type": "code",
      "source": [
        "# Bucle o fit de entrenamiento\n",
        "epochs = 300\n",
        "\n",
        "for i in range(epochs):\n",
        "    for seq, labels in train_inout_seq:\n",
        "        optimizer.zero_grad()\n",
        "        model.hidden_cell = (torch.zeros(1, 1, model.hidden_layer_size),\n",
        "                        torch.zeros(1, 1, model.hidden_layer_size))\n",
        "\n",
        "        y_pred = model(seq)\n",
        "\n",
        "        single_loss = loss_function(y_pred, labels)\n",
        "        single_loss.backward()\n",
        "        optimizer.step()\n",
        "\n",
        "    if i%25 == 1:\n",
        "        print(f'epoch: {i:3} loss: {single_loss.item():10.8f}')\n",
        "\n",
        "print(f'epoch: {i:3} loss: {single_loss.item():10.10f}')\n"
      ],
      "metadata": {
        "colab": {
          "base_uri": "https://localhost:8080/"
        },
        "id": "bMbbkM7SY_Ww",
        "outputId": "dae61591-38fa-4775-f7d2-80696336e298"
      },
      "execution_count": 166,
      "outputs": [
        {
          "output_type": "stream",
          "name": "stdout",
          "text": [
            "epoch:   1 loss: 0.01179193\n",
            "epoch:  26 loss: 0.00098961\n",
            "epoch:  51 loss: 0.00267679\n",
            "epoch:  76 loss: 0.00306240\n",
            "epoch: 101 loss: 0.00054540\n",
            "epoch: 126 loss: 0.00020109\n",
            "epoch: 151 loss: 0.00064748\n",
            "epoch: 176 loss: 0.00183467\n",
            "epoch: 201 loss: 0.00104220\n",
            "epoch: 226 loss: 0.00183922\n",
            "epoch: 251 loss: 0.00001543\n",
            "epoch: 276 loss: 0.00004125\n",
            "epoch: 299 loss: 0.0030354937\n"
          ]
        }
      ]
    },
    {
      "cell_type": "markdown",
      "source": [
        "\n",
        "\n",
        "---\n",
        "\n",
        "# **Para** **predecir**\n",
        "\n"
      ],
      "metadata": {
        "id": "iO0A0sOGZXOm"
      }
    },
    {
      "cell_type": "code",
      "source": [
        "fut_pred = 14\n",
        "\n",
        "test_inputs = train_data_normalized[-train_window:].tolist()\n",
        "print(test_inputs)\n"
      ],
      "metadata": {
        "colab": {
          "base_uri": "https://localhost:8080/"
        },
        "id": "fR33BKy0Y_ar",
        "outputId": "de36efec-a7ad-45d7-c68d-b8e6ee1fa0be"
      },
      "execution_count": 169,
      "outputs": [
        {
          "output_type": "stream",
          "name": "stdout",
          "text": [
            "[0.5080204010009766, 0.5282537341117859, 0.5900474190711975, 0.628144383430481, 0.6589500308036804, 0.7200145721435547, 0.754283607006073, 0.8211811780929565, 0.8728581666946411, 0.9304593801498413, 0.9816806316375732, 1.0]\n"
          ]
        }
      ]
    },
    {
      "cell_type": "code",
      "source": [
        "model.eval()\n",
        "\n",
        "for i in range(fut_pred):\n",
        "    seq = torch.FloatTensor(test_inputs[-train_window:])\n",
        "    with torch.no_grad():\n",
        "        model.hidden = (torch.zeros(1, 1, model.hidden_layer_size),\n",
        "                        torch.zeros(1, 1, model.hidden_layer_size))\n",
        "        test_inputs.append(model(seq).item())\n"
      ],
      "metadata": {
        "id": "_o0PH3zaZr9h"
      },
      "execution_count": 170,
      "outputs": []
    },
    {
      "cell_type": "code",
      "source": [
        "test_inputs[fut_pred:]\n"
      ],
      "metadata": {
        "colab": {
          "base_uri": "https://localhost:8080/"
        },
        "id": "C6U4eAwiZtx5",
        "outputId": "6e90cfb6-8a9c-40b4-cc80-6148e4f89a64"
      },
      "execution_count": 172,
      "outputs": [
        {
          "output_type": "execute_result",
          "data": {
            "text/plain": [
              "[1.464263916015625,\n",
              " 2.040201425552368,\n",
              " 2.759500741958618,\n",
              " 3.3687398433685303,\n",
              " 3.133338212966919,\n",
              " 2.9188575744628906,\n",
              " 2.1276469230651855,\n",
              " 1.3140267133712769,\n",
              " 0.5544797778129578,\n",
              " 0.4895220398902893,\n",
              " -0.4082220792770386,\n",
              " -0.8046046495437622]"
            ]
          },
          "metadata": {},
          "execution_count": 172
        }
      ]
    },
    {
      "cell_type": "code",
      "source": [
        "actual_predictions = scaler.inverse_transform(np.array(test_inputs[train_window:] ).reshape(-1, 1))\n",
        "print(actual_predictions)\n"
      ],
      "metadata": {
        "colab": {
          "base_uri": "https://localhost:8080/"
        },
        "id": "-7ob41unZxSX",
        "outputId": "f565da17-02f0-4159-d034-3966a9594d84"
      },
      "execution_count": 173,
      "outputs": [
        {
          "output_type": "stream",
          "name": "stdout",
          "text": [
            "[[22673.12984228]\n",
            " [24032.67504835]\n",
            " [27046.90368652]\n",
            " [33366.09004116]\n",
            " [41258.24214077]\n",
            " [47942.81356144]\n",
            " [45359.98687267]\n",
            " [43006.70530701]\n",
            " [34325.54203987]\n",
            " [25398.50109911]\n",
            " [17064.75212216]\n",
            " [16352.03582168]\n",
            " [ 6501.98734617]\n",
            " [ 2152.87778521]]\n"
          ]
        }
      ]
    },
    {
      "cell_type": "code",
      "source": [
        "# xx = np.arange(0, 35000, 1)\n",
        "# print(xx)\n",
        "limite = len(flight_data['cases'])\n",
        "xx = np.arange(0, limite+6, 1)\n",
        "# print(xx)"
      ],
      "metadata": {
        "id": "O_bJTQnBZ1pB"
      },
      "execution_count": 184,
      "outputs": []
    },
    {
      "cell_type": "code",
      "source": [
        "plt.title('Dias vs Cases')\n",
        "plt.ylabel('Total Passengers')\n",
        "plt.grid(True)\n",
        "plt.autoscale(axis='x', tight=True)\n",
        "plt.plot(flight_data['cases'])\n",
        "plt.plot(xx,actual_predictions)\n",
        "plt.show()\n",
        "\n"
      ],
      "metadata": {
        "colab": {
          "base_uri": "https://localhost:8080/",
          "height": 675
        },
        "id": "KGlIueiJaOq8",
        "outputId": "9f2bb0e9-0e00-44ac-8911-23bc7f72e0a2"
      },
      "execution_count": 185,
      "outputs": [
        {
          "output_type": "error",
          "ename": "ValueError",
          "evalue": "ignored",
          "traceback": [
            "\u001b[0;31m---------------------------------------------------------------------------\u001b[0m",
            "\u001b[0;31mValueError\u001b[0m                                Traceback (most recent call last)",
            "\u001b[0;32m<ipython-input-185-fbf9d6c812ac>\u001b[0m in \u001b[0;36m<module>\u001b[0;34m()\u001b[0m\n\u001b[1;32m      4\u001b[0m \u001b[0mplt\u001b[0m\u001b[0;34m.\u001b[0m\u001b[0mautoscale\u001b[0m\u001b[0;34m(\u001b[0m\u001b[0maxis\u001b[0m\u001b[0;34m=\u001b[0m\u001b[0;34m'x'\u001b[0m\u001b[0;34m,\u001b[0m \u001b[0mtight\u001b[0m\u001b[0;34m=\u001b[0m\u001b[0;32mTrue\u001b[0m\u001b[0;34m)\u001b[0m\u001b[0;34m\u001b[0m\u001b[0;34m\u001b[0m\u001b[0m\n\u001b[1;32m      5\u001b[0m \u001b[0mplt\u001b[0m\u001b[0;34m.\u001b[0m\u001b[0mplot\u001b[0m\u001b[0;34m(\u001b[0m\u001b[0mflight_data\u001b[0m\u001b[0;34m[\u001b[0m\u001b[0;34m'cases'\u001b[0m\u001b[0;34m]\u001b[0m\u001b[0;34m)\u001b[0m\u001b[0;34m\u001b[0m\u001b[0;34m\u001b[0m\u001b[0m\n\u001b[0;32m----> 6\u001b[0;31m \u001b[0mplt\u001b[0m\u001b[0;34m.\u001b[0m\u001b[0mplot\u001b[0m\u001b[0;34m(\u001b[0m\u001b[0mxx\u001b[0m\u001b[0;34m,\u001b[0m\u001b[0mactual_predictions\u001b[0m\u001b[0;34m)\u001b[0m\u001b[0;34m\u001b[0m\u001b[0;34m\u001b[0m\u001b[0m\n\u001b[0m\u001b[1;32m      7\u001b[0m \u001b[0mplt\u001b[0m\u001b[0;34m.\u001b[0m\u001b[0mshow\u001b[0m\u001b[0;34m(\u001b[0m\u001b[0;34m)\u001b[0m\u001b[0;34m\u001b[0m\u001b[0;34m\u001b[0m\u001b[0m\n\u001b[1;32m      8\u001b[0m \u001b[0;34m\u001b[0m\u001b[0m\n",
            "\u001b[0;32m/usr/local/lib/python3.7/dist-packages/matplotlib/pyplot.py\u001b[0m in \u001b[0;36mplot\u001b[0;34m(scalex, scaley, data, *args, **kwargs)\u001b[0m\n\u001b[1;32m   2761\u001b[0m     return gca().plot(\n\u001b[1;32m   2762\u001b[0m         *args, scalex=scalex, scaley=scaley, **({\"data\": data} if data\n\u001b[0;32m-> 2763\u001b[0;31m         is not None else {}), **kwargs)\n\u001b[0m\u001b[1;32m   2764\u001b[0m \u001b[0;34m\u001b[0m\u001b[0m\n\u001b[1;32m   2765\u001b[0m \u001b[0;34m\u001b[0m\u001b[0m\n",
            "\u001b[0;32m/usr/local/lib/python3.7/dist-packages/matplotlib/axes/_axes.py\u001b[0m in \u001b[0;36mplot\u001b[0;34m(self, scalex, scaley, data, *args, **kwargs)\u001b[0m\n\u001b[1;32m   1645\u001b[0m         \"\"\"\n\u001b[1;32m   1646\u001b[0m         \u001b[0mkwargs\u001b[0m \u001b[0;34m=\u001b[0m \u001b[0mcbook\u001b[0m\u001b[0;34m.\u001b[0m\u001b[0mnormalize_kwargs\u001b[0m\u001b[0;34m(\u001b[0m\u001b[0mkwargs\u001b[0m\u001b[0;34m,\u001b[0m \u001b[0mmlines\u001b[0m\u001b[0;34m.\u001b[0m\u001b[0mLine2D\u001b[0m\u001b[0;34m)\u001b[0m\u001b[0;34m\u001b[0m\u001b[0;34m\u001b[0m\u001b[0m\n\u001b[0;32m-> 1647\u001b[0;31m         \u001b[0mlines\u001b[0m \u001b[0;34m=\u001b[0m \u001b[0;34m[\u001b[0m\u001b[0;34m*\u001b[0m\u001b[0mself\u001b[0m\u001b[0;34m.\u001b[0m\u001b[0m_get_lines\u001b[0m\u001b[0;34m(\u001b[0m\u001b[0;34m*\u001b[0m\u001b[0margs\u001b[0m\u001b[0;34m,\u001b[0m \u001b[0mdata\u001b[0m\u001b[0;34m=\u001b[0m\u001b[0mdata\u001b[0m\u001b[0;34m,\u001b[0m \u001b[0;34m**\u001b[0m\u001b[0mkwargs\u001b[0m\u001b[0;34m)\u001b[0m\u001b[0;34m]\u001b[0m\u001b[0;34m\u001b[0m\u001b[0;34m\u001b[0m\u001b[0m\n\u001b[0m\u001b[1;32m   1648\u001b[0m         \u001b[0;32mfor\u001b[0m \u001b[0mline\u001b[0m \u001b[0;32min\u001b[0m \u001b[0mlines\u001b[0m\u001b[0;34m:\u001b[0m\u001b[0;34m\u001b[0m\u001b[0;34m\u001b[0m\u001b[0m\n\u001b[1;32m   1649\u001b[0m             \u001b[0mself\u001b[0m\u001b[0;34m.\u001b[0m\u001b[0madd_line\u001b[0m\u001b[0;34m(\u001b[0m\u001b[0mline\u001b[0m\u001b[0;34m)\u001b[0m\u001b[0;34m\u001b[0m\u001b[0;34m\u001b[0m\u001b[0m\n",
            "\u001b[0;32m/usr/local/lib/python3.7/dist-packages/matplotlib/axes/_base.py\u001b[0m in \u001b[0;36m__call__\u001b[0;34m(self, *args, **kwargs)\u001b[0m\n\u001b[1;32m    214\u001b[0m                 \u001b[0mthis\u001b[0m \u001b[0;34m+=\u001b[0m \u001b[0margs\u001b[0m\u001b[0;34m[\u001b[0m\u001b[0;36m0\u001b[0m\u001b[0;34m]\u001b[0m\u001b[0;34m,\u001b[0m\u001b[0;34m\u001b[0m\u001b[0;34m\u001b[0m\u001b[0m\n\u001b[1;32m    215\u001b[0m                 \u001b[0margs\u001b[0m \u001b[0;34m=\u001b[0m \u001b[0margs\u001b[0m\u001b[0;34m[\u001b[0m\u001b[0;36m1\u001b[0m\u001b[0;34m:\u001b[0m\u001b[0;34m]\u001b[0m\u001b[0;34m\u001b[0m\u001b[0;34m\u001b[0m\u001b[0m\n\u001b[0;32m--> 216\u001b[0;31m             \u001b[0;32myield\u001b[0m \u001b[0;32mfrom\u001b[0m \u001b[0mself\u001b[0m\u001b[0;34m.\u001b[0m\u001b[0m_plot_args\u001b[0m\u001b[0;34m(\u001b[0m\u001b[0mthis\u001b[0m\u001b[0;34m,\u001b[0m \u001b[0mkwargs\u001b[0m\u001b[0;34m)\u001b[0m\u001b[0;34m\u001b[0m\u001b[0;34m\u001b[0m\u001b[0m\n\u001b[0m\u001b[1;32m    217\u001b[0m \u001b[0;34m\u001b[0m\u001b[0m\n\u001b[1;32m    218\u001b[0m     \u001b[0;32mdef\u001b[0m \u001b[0mget_next_color\u001b[0m\u001b[0;34m(\u001b[0m\u001b[0mself\u001b[0m\u001b[0;34m)\u001b[0m\u001b[0;34m:\u001b[0m\u001b[0;34m\u001b[0m\u001b[0;34m\u001b[0m\u001b[0m\n",
            "\u001b[0;32m/usr/local/lib/python3.7/dist-packages/matplotlib/axes/_base.py\u001b[0m in \u001b[0;36m_plot_args\u001b[0;34m(self, tup, kwargs)\u001b[0m\n\u001b[1;32m    340\u001b[0m \u001b[0;34m\u001b[0m\u001b[0m\n\u001b[1;32m    341\u001b[0m         \u001b[0;32mif\u001b[0m \u001b[0mx\u001b[0m\u001b[0;34m.\u001b[0m\u001b[0mshape\u001b[0m\u001b[0;34m[\u001b[0m\u001b[0;36m0\u001b[0m\u001b[0;34m]\u001b[0m \u001b[0;34m!=\u001b[0m \u001b[0my\u001b[0m\u001b[0;34m.\u001b[0m\u001b[0mshape\u001b[0m\u001b[0;34m[\u001b[0m\u001b[0;36m0\u001b[0m\u001b[0;34m]\u001b[0m\u001b[0;34m:\u001b[0m\u001b[0;34m\u001b[0m\u001b[0;34m\u001b[0m\u001b[0m\n\u001b[0;32m--> 342\u001b[0;31m             raise ValueError(f\"x and y must have same first dimension, but \"\n\u001b[0m\u001b[1;32m    343\u001b[0m                              f\"have shapes {x.shape} and {y.shape}\")\n\u001b[1;32m    344\u001b[0m         \u001b[0;32mif\u001b[0m \u001b[0mx\u001b[0m\u001b[0;34m.\u001b[0m\u001b[0mndim\u001b[0m \u001b[0;34m>\u001b[0m \u001b[0;36m2\u001b[0m \u001b[0;32mor\u001b[0m \u001b[0my\u001b[0m\u001b[0;34m.\u001b[0m\u001b[0mndim\u001b[0m \u001b[0;34m>\u001b[0m \u001b[0;36m2\u001b[0m\u001b[0;34m:\u001b[0m\u001b[0;34m\u001b[0m\u001b[0;34m\u001b[0m\u001b[0m\n",
            "\u001b[0;31mValueError\u001b[0m: x and y must have same first dimension, but have shapes (128,) and (14, 1)"
          ]
        },
        {
          "output_type": "display_data",
          "data": {
            "image/png": "[encoded data removed]",
            "text/plain": [
              "<Figure size 2160x720 with 1 Axes>"
            ]
          },
          "metadata": {
            "needs_background": "light"
          }
        }
      ]
    }
  ]
}